{
 "cells": [
  {
   "metadata": {
    "ExecuteTime": {
     "end_time": "2024-08-22T16:31:38.782292Z",
     "start_time": "2024-08-22T16:31:38.776497Z"
    }
   },
   "cell_type": "code",
   "source": [
    "import math\n",
    "import os\n",
    "\n",
    "import pandas as pd\n",
    "\n",
    "import rvms\n",
    "\n",
    "csv_dir = '../../../csvFiles/'\n",
    "if csv_dir == '':\n",
    "    raise ValueError('Specificare un percorso valido!')\n",
    "\n",
    "def load_csv(path: str) -> pd.DataFrame:\n",
    "    return pd.read_csv(path, sep='\\\\s*,\\\\s*', engine='python')\n",
    "\n",
    "def confidence_interval(values: list[float], loc: float=0.95) -> float:\n",
    "    n: int = len(values)\n",
    "    if n <= 1:\n",
    "        raise ValueError(\"list of 2+ elements required\")\n",
    "    mean = sum(values) / n\n",
    "    std = sum(map(lambda x: (x - mean)**2, values)) / n\n",
    "    u = 1.0 - 0.5 * (1.0 - loc)\n",
    "    t = rvms.idfStudent(n - 1, u)\n",
    "    return t * std / math.sqrt(n - 1)\n",
    "    "
   ],
   "id": "ec59b182e29e05e",
   "outputs": [],
   "execution_count": 43
  },
  {
   "metadata": {
    "ExecuteTime": {
     "end_time": "2024-08-22T16:31:38.802239Z",
     "start_time": "2024-08-22T16:31:38.785145Z"
    }
   },
   "cell_type": "code",
   "source": [
    "from collections import defaultdict\n",
    "\n",
    "\n",
    "def format_center_name(s: str) -> str:\n",
    "    return ''.join(w[0] for w in s.split('_'))\n",
    "\n",
    "def sci(x: float, nf: int=4) -> str:\n",
    "    if x == 0:\n",
    "        return str(x)\n",
    "    if x < 1:\n",
    "        exp = 0\n",
    "        while x < 1:\n",
    "            x *= 10\n",
    "            exp += 1\n",
    "        return f'{x:.4f} \\\\cdot 10^{{-{exp}}}'\n",
    "    else:\n",
    "        return f'{x:.4f}'\n",
    "\n",
    "def create_table(\n",
    "        parent_dir: str,\n",
    "        simulation_type = ('FINITE_SIMULATION', 'IMPROVED_FINITE_SIMULATION'),\n",
    "        indexes = ('E[Ns]', 'E[Ts]', 'E[Nq]', 'E[Tq]', 'E[s]', 'ρ', 'λ')):\n",
    "    data: list[list[str]] = []\n",
    "    # ['Reparto Istruttorie', 'Scoring Automatico', 'Comitato Credito', 'Reparto Liquidazioni']\n",
    "    for sim in simulation_type:\n",
    "        parent = os.path.join(csv_dir, sim, 'results')\n",
    "        for file_name in os.listdir(parent):\n",
    "            center_name: str = file_name.replace('.csv', '')\n",
    "            path = os.path.join(parent, file_name)\n",
    "            df: pd.DataFrame = load_csv(path)\n",
    "            row: list[str] = [format_center_name(center_name)]\n",
    "            for i in indexes:\n",
    "                x = df[i].mean()\n",
    "                ci = confidence_interval(df[i])\n",
    "                if ci == 0:\n",
    "                    cell = '-'\n",
    "                else:\n",
    "                    cell = f'${x:.4f}\\\\pm{sci(ci)}$'\n",
    "                row.append(cell)\n",
    "            data.append(row)\n",
    "        columns = ['Centro']\n",
    "        for i in indexes:\n",
    "            if i == 'ρ':\n",
    "                s = '$\\\\rho$'\n",
    "            elif i == 'λ':\n",
    "                s = '$\\\\lambda$'\n",
    "            else:\n",
    "                s = f'${i}$'\n",
    "            columns.append(s)\n",
    "        table = pd.DataFrame(data, columns=columns)\n",
    "        path: str = os.path.join(parent_dir, f'{sim}_output.tex')        \n",
    "        table.style.hide(axis=\"index\").to_latex(path, hrules=True)\n",
    "        data.clear()\n",
    "\n",
    "def create_batch_table(\n",
    "        parent_dir: str,\n",
    "        simulation_type =('BATCH_SIMULATION_EXPONENTIAL', 'IMPROVED_BATCH_SIMULATION_EXPONENTIAL'),\n",
    "        indexes = ('E[Ns]', 'E[Ts]', 'E[Nq]', 'E[Tq]', 'E[s]', 'ρ', 'λ')):\n",
    "    data: dict[str, list[str]] = defaultdict(list)\n",
    "    \n",
    "    for i in indexes:\n",
    "            if i == 'ρ':\n",
    "                s = '$\\\\rho$'\n",
    "            elif i == 'λ':\n",
    "                s = '$\\\\lambda$'\n",
    "            else:\n",
    "                s = f'${i}$'\n",
    "            data['Indice'].append(f'{s} analitico')\n",
    "            data['Indice'].append(f'{s} misurato')\n",
    "            data['Indice'].append('CI')\n",
    "    \n",
    "    # ['Reparto Istruttorie', 'Scoring Automatico', 'Comitato Credito', 'Reparto Liquidazioni']\n",
    "    for sim in simulation_type:\n",
    "        a_path = os.path.join(csv_dir, sim, 'analyticalResults', 'analyticalResults.csv')\n",
    "        a_df: pd.DataFrame = load_csv(a_path)\n",
    "        parent = os.path.join(csv_dir, sim, 'results')\n",
    "        for file_name in os.listdir(parent):\n",
    "            center_name: str = file_name.replace('.csv', '')\n",
    "            path = os.path.join(parent, file_name)\n",
    "            a_row = a_df[a_df['Center'] == center_name].iloc[0]\n",
    "            df: pd.DataFrame = load_csv(path)\n",
    "            center_name = center_name.replace('_', '\\\\_')\n",
    "            for i in indexes:\n",
    "                x = df[i].mean()\n",
    "                ci = confidence_interval(df[i])\n",
    "                if ci == 0:\n",
    "                    cell = '-'\n",
    "                else:\n",
    "                    cell = f'$\\\\pm {sci(ci)}$'\n",
    "                data[center_name].append(f'${a_row[i]}$')\n",
    "                data[center_name].append(f'${x}$')\n",
    "                data[center_name].append(cell)\n",
    "        table = pd.DataFrame(data)\n",
    "        path: str = os.path.join(parent_dir, f'{sim}_output.tex')        \n",
    "        table.style.hide(axis=\"index\").to_latex(path, hrules=True)\n",
    "        data.clear()"
   ],
   "id": "c0badfbe963416d0",
   "outputs": [],
   "execution_count": 44
  },
  {
   "metadata": {
    "ExecuteTime": {
     "end_time": "2024-08-22T16:31:38.876432Z",
     "start_time": "2024-08-22T16:31:38.805255Z"
    }
   },
   "cell_type": "code",
   "source": [
    "create_table('tex',\n",
    "             indexes=['E[Ns]', 'E[Ts]', 'E[Nq]', 'E[Tq]', 'ρ', 'λ'])"
   ],
   "id": "3d376a272b7c0d22",
   "outputs": [],
   "execution_count": 45
  },
  {
   "metadata": {
    "ExecuteTime": {
     "end_time": "2024-08-22T16:31:38.880225Z",
     "start_time": "2024-08-22T16:31:38.877713Z"
    }
   },
   "cell_type": "code",
   "source": "",
   "id": "c38dfeaef758880a",
   "outputs": [],
   "execution_count": 45
  }
 ],
 "metadata": {
  "kernelspec": {
   "display_name": "Python 3",
   "language": "python",
   "name": "python3"
  },
  "language_info": {
   "codemirror_mode": {
    "name": "ipython",
    "version": 2
   },
   "file_extension": ".py",
   "mimetype": "text/x-python",
   "name": "python",
   "nbconvert_exporter": "python",
   "pygments_lexer": "ipython2",
   "version": "2.7.6"
  }
 },
 "nbformat": 4,
 "nbformat_minor": 5
}
