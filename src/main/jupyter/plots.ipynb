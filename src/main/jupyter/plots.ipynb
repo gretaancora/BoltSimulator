{
 "cells": [
  {
   "cell_type": "code",
   "id": "initial_id",
   "metadata": {
    "collapsed": true,
    "ExecuteTime": {
     "end_time": "2024-08-20T22:46:11.078989Z",
     "start_time": "2024-08-20T22:46:11.044928Z"
    }
   },
   "source": [
    "import pandas as pd\n",
    "\n",
    "\n",
    "def load_csv(file: str) -> pd.DataFrame:\n",
    "    return pd.read_csv(file, sep='\\\\s*,\\\\s*', engine='python')"
   ],
   "outputs": [],
   "execution_count": 12
  },
  {
   "metadata": {
    "ExecuteTime": {
     "end_time": "2024-08-20T22:46:11.822100Z",
     "start_time": "2024-08-20T22:46:11.789065Z"
    }
   },
   "cell_type": "code",
   "source": [
    "import matplotlib.pyplot as plt\n",
    "import os\n",
    "import pandas as pd\n",
    "\n",
    "def plot(center_name: str, index: str, parent: str, df: pd.DataFrame):\n",
    "    if not os.path.exists('plots'):\n",
    "        os.makedirs('plots')\n",
    "    # Plot the data\n",
    "    fig = plt.figure(figsize=(10, 6))\n",
    "    plt.plot(df.index, df[index], marker='o', linestyle='-', color='b')\n",
    "\n",
    "    # Add title and labels\n",
    "    plt.title(f'{index} {center_name}')\n",
    "    plt.xlabel('#batch')\n",
    "    plt.ylabel(index)\n",
    "    \n",
    "    # Show the plot\n",
    "    plt.grid(True)\n",
    "    plt.savefig(os.path.join(parent, f'{index}_{center_name}.png'), dpi=fig.dpi)\n",
    "    plt.close(fig)\n",
    "\n",
    "\n",
    "def plot_observations(center_name: str, df: pd.DataFrame, parent: str):\n",
    "    if not os.path.exists('plots'):\n",
    "        os.makedirs('plots')\n",
    "    # Plot the data\n",
    "    fig = plt.figure(figsize=(10, 6))\n",
    "    plt.plot(df.index, df['E[Ts]'], marker='o', linestyle='-', color='b')\n",
    "\n",
    "    # Add title and labels\n",
    "    plt.title(f'Welch Plot for {center_name}')\n",
    "    plt.xlabel('#jobs')\n",
    "    plt.ylabel('E[Ts]')\n",
    "    \n",
    "    # Show the plot\n",
    "    plt.grid(True)\n",
    "    plt.savefig(os.path.join(parent, f'{center_name}.png'), dpi=fig.dpi)\n",
    "    plt.close(fig)"
   ],
   "id": "3e686fc441a059ce",
   "outputs": [],
   "execution_count": 13
  },
  {
   "metadata": {
    "ExecuteTime": {
     "end_time": "2024-08-20T22:46:15.680506Z",
     "start_time": "2024-08-20T22:46:15.669855Z"
    }
   },
   "cell_type": "code",
   "source": [
    "csv_dir = '../../../csvFiles/'\n",
    "if csv_dir == '':\n",
    "    raise ValueError('Specificare un percorso valido!')"
   ],
   "id": "aa3a6a980ebc37b0",
   "outputs": [],
   "execution_count": 14
  },
  {
   "metadata": {
    "ExecuteTime": {
     "end_time": "2024-08-19T15:20:46.683845Z",
     "start_time": "2024-08-19T15:20:40.685036Z"
    }
   },
   "cell_type": "code",
   "source": [
    "for sim in ('BATCH_SIMULATION_EXPONENTIAL', 'IMPROVED_BATCH_SIMULATION_EXPONENTIAL'):\n",
    "    results_dir = os.path.join(csv_dir, sim, 'results')\n",
    "    plots_dir = os.path.join('plots', sim)\n",
    "    indexes = ['E[Ts]', 'E[Tq]', 'E[s]', 'E[Ns]', 'E[Nq]', 'ρ', 'λ']\n",
    "    for file in os.listdir(results_dir):\n",
    "        center_name = file.replace('.csv', '')\n",
    "        path = os.path.join(results_dir, file)\n",
    "        parent = os.path.join(plots_dir, center_name)\n",
    "        os.makedirs(parent, exist_ok=True)\n",
    "        df = load_csv(path)\n",
    "        for index in indexes:\n",
    "            plot(center_name, index, parent, df)"
   ],
   "id": "ab40c807cad5d2b0",
   "outputs": [],
   "execution_count": 6
  },
  {
   "metadata": {
    "ExecuteTime": {
     "end_time": "2024-08-20T22:59:25.377995Z",
     "start_time": "2024-08-20T22:59:23.316502Z"
    }
   },
   "cell_type": "code",
   "source": [
    "for sim in ['FINITE_SIMULATION']:\n",
    "    observations_dir = os.path.join(csv_dir, sim, 'observations')\n",
    "    parent = os.path.join('plots', sim)\n",
    "    os.makedirs(parent, exist_ok=True)\n",
    "    indexes = ['E[Ts]']\n",
    "    for file in filter(lambda f: f.endswith('.csv'), os.listdir(observations_dir)):\n",
    "        center_name = file.replace('.csv', '')\n",
    "        path = os.path.join(observations_dir, file)\n",
    "        df = load_csv(path)\n",
    "        for index in indexes:\n",
    "            plot_observations(center_name, df, parent)"
   ],
   "id": "126a60d58a32c29c",
   "outputs": [],
   "execution_count": 18
  },
  {
   "metadata": {},
   "cell_type": "code",
   "outputs": [],
   "execution_count": null,
   "source": "",
   "id": "8b95cef7afdd3fab"
  }
 ],
 "metadata": {
  "kernelspec": {
   "display_name": "Python 3",
   "language": "python",
   "name": "python3"
  },
  "language_info": {
   "codemirror_mode": {
    "name": "ipython",
    "version": 2
   },
   "file_extension": ".py",
   "mimetype": "text/x-python",
   "name": "python",
   "nbconvert_exporter": "python",
   "pygments_lexer": "ipython2",
   "version": "2.7.6"
  }
 },
 "nbformat": 4,
 "nbformat_minor": 5
}
