{
 "cells": [
  {
   "cell_type": "code",
   "id": "initial_id",
   "metadata": {
    "collapsed": true,
    "ExecuteTime": {
     "end_time": "2024-08-23T10:00:33.864433Z",
     "start_time": "2024-08-23T10:00:33.857479Z"
    }
   },
   "source": [
    "import os\n",
    "\n",
    "import matplotlib.pyplot as plt\n",
    "import pandas as pd\n",
    "\n",
    "\n",
    "def load_csv(path: str) -> pd.DataFrame:\n",
    "    return pd.read_csv(path, sep='\\\\s*,\\\\s*', engine='python')\n",
    "\n",
    "\n",
    "def plot(\n",
    "        center_name: str,\n",
    "        index: str,\n",
    "        parent: str,\n",
    "        seed: int = 123456789,\n",
    "        colors_list =('b', 'c', 'r', 'y', 'g', 'k', 'w', 'm'),\n",
    "        **kwargs: pd.DataFrame):\n",
    "    if not os.path.exists(parent):\n",
    "        os.makedirs(parent, exist_ok=True)\n",
    "    # Plot the data\n",
    "    fig = plt.figure(figsize=(10, 6))\n",
    "    plt.title(f'{index} {center_name} ({seed})')\n",
    "    i = 0\n",
    "    for k, v in kwargs.items():\n",
    "        plt.plot(b_df.index, v[index], marker='o', linestyle='-', color=f'{colors_list[i]}', label=k)\n",
    "        i += 1\n",
    "    plt.legend()\n",
    "    # Add title and labels\n",
    "    plt.xlabel('#batch')\n",
    "    plt.ylabel(f'{index} (min)')\n",
    "    \n",
    "    # Show the plot\n",
    "    plt.grid(True)\n",
    "    plt.savefig(os.path.join(parent, f'{index}_{center_name}.png'), dpi=fig.dpi)\n",
    "    plt.close(fig)\n",
    "\n",
    "\n",
    "csv_dir = '../../../csvFiles/'"
   ],
   "outputs": [],
   "execution_count": 6
  },
  {
   "metadata": {
    "ExecuteTime": {
     "end_time": "2024-08-23T10:00:35.837697Z",
     "start_time": "2024-08-23T10:00:34.577879Z"
    }
   },
   "cell_type": "code",
   "source": [
    "b_dir = os.path.join(csv_dir, 'BATCH_SIMULATION', 'results')\n",
    "i_dir = os.path.join(csv_dir, 'IMPROVED_BATCH_SIMULATION', 'results')\n",
    "for file in os.listdir(b_dir):\n",
    "    center_name = file.replace('.csv', '')\n",
    "    b_path = os.path.join(b_dir, file)\n",
    "    i_path = os.path.join(i_dir, file)\n",
    "    b_df = load_csv(b_path)\n",
    "    i_df = load_csv(i_path)\n",
    "    for i in ('E[Ns]', 'E[Nq]'):\n",
    "        by_axis = b_df[i]\n",
    "        iy_axis = i_df[i]\n",
    "        plot(center_name, i, os.path.join('plots', 'comparisons'), BASE=b_df, IMPROVED=i_df)\n",
    "        "
   ],
   "id": "30d2ac4af218af4f",
   "outputs": [],
   "execution_count": 7
  },
  {
   "metadata": {},
   "cell_type": "code",
   "outputs": [],
   "execution_count": null,
   "source": "",
   "id": "33769c2ff5c51b5"
  }
 ],
 "metadata": {
  "kernelspec": {
   "display_name": "Python 3",
   "language": "python",
   "name": "python3"
  },
  "language_info": {
   "codemirror_mode": {
    "name": "ipython",
    "version": 2
   },
   "file_extension": ".py",
   "mimetype": "text/x-python",
   "name": "python",
   "nbconvert_exporter": "python",
   "pygments_lexer": "ipython2",
   "version": "2.7.6"
  }
 },
 "nbformat": 4,
 "nbformat_minor": 5
}
