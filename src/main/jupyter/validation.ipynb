{
 "cells": [
  {
   "cell_type": "code",
   "id": "initial_id",
   "metadata": {
    "collapsed": true,
    "ExecuteTime": {
     "end_time": "2024-08-21T19:33:05.158717Z",
     "start_time": "2024-08-21T19:33:04.539849Z"
    }
   },
   "source": [
    "import pandas as pd\n",
    "import os\n",
    "\n",
    "csv_dir = '../../../csvFiles/'\n",
    "if csv_dir == '':\n",
    "    raise ValueError('Specificare un percorso valido!')\n",
    "\n",
    "def load_csv(path: str) -> pd.DataFrame:\n",
    "    return pd.read_csv(path, sep='\\\\s*,\\\\s*', engine='python')\n"
   ],
   "outputs": [],
   "execution_count": 1
  },
  {
   "metadata": {
    "ExecuteTime": {
     "end_time": "2024-08-21T19:58:39.774648Z",
     "start_time": "2024-08-21T19:58:39.658350Z"
    }
   },
   "cell_type": "code",
   "source": [
    "from collections import defaultdict\n",
    "\n",
    "rho_fails = {}\n",
    "time_fails = {}\n",
    "for sim in ('FINITE_SIMULATION', 'IMPROVED_FINITE_SIMULATION'):\n",
    "    parent = os.path.join(csv_dir, sim, 'results')\n",
    "    time_fails[sim] = defaultdict(int)\n",
    "    for file_name in os.listdir(parent):\n",
    "        center_name: str = file_name.replace('.csv', '')\n",
    "        path = os.path.join(parent, file_name)\n",
    "        df: pd.DataFrame = load_csv(path)\n",
    "        for i, row in df.iterrows():\n",
    "            if abs((row['E[Tq]'] + row['E[s]']) - row['E[Ts]']) > 1e-6:\n",
    "                time_fails[sim][center_name] += 1\n",
    "            if row['ρ'] >= 1:\n",
    "                rho_fails[sim][center_name] += 1\n",
    "print('E[Tq] + E[s] = E[Ts]')\n",
    "for k, v in time_fails.items():\n",
    "    print(k)\n",
    "    for c, f in v.items():\n",
    "        print(f'{c}: {f}')\n",
    "    print()\n",
    "print('ρ')\n",
    "for k, v in rho_fails.items():\n",
    "    print(k)\n",
    "    for c, f in v.items():\n",
    "        print(f'{c}: {f}')\n",
    "    print()"
   ],
   "id": "2079da13cf354fce",
   "outputs": [
    {
     "name": "stdout",
     "output_type": "stream",
     "text": [
      "E[Tq] + E[s] = E[Ts]\n",
      "FINITE_SIMULATION\n",
      "REPARTO_ISTRUTTORIE_MAAC: 141\n",
      "\n",
      "IMPROVED_FINITE_SIMULATION\n",
      "PRE_SCORING_MAAC: 121\n",
      "REPARTO_ISTRUTTORIE_MAAC: 123\n",
      "\n",
      "ρ\n"
     ]
    }
   ],
   "execution_count": 6
  },
  {
   "metadata": {},
   "cell_type": "code",
   "source": "",
   "id": "2aa42b9ffe5c9dce",
   "outputs": [],
   "execution_count": null
  },
  {
   "metadata": {},
   "cell_type": "code",
   "source": "",
   "id": "5fad6513cb41663e",
   "outputs": [],
   "execution_count": null
  }
 ],
 "metadata": {
  "kernelspec": {
   "display_name": "Python 3",
   "language": "python",
   "name": "python3"
  },
  "language_info": {
   "codemirror_mode": {
    "name": "ipython",
    "version": 2
   },
   "file_extension": ".py",
   "mimetype": "text/x-python",
   "name": "python",
   "nbconvert_exporter": "python",
   "pygments_lexer": "ipython2",
   "version": "2.7.6"
  }
 },
 "nbformat": 4,
 "nbformat_minor": 5
}
